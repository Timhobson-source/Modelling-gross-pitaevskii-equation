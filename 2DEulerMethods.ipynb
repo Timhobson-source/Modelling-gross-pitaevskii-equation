{
 "cells": [
  {
   "cell_type": "code",
   "execution_count": 6,
   "metadata": {},
   "outputs": [
    {
     "ename": "TypeError",
     "evalue": "only length-1 arrays can be converted to Python scalars",
     "output_type": "error",
     "traceback": [
      "\u001b[1;31m---------------------------------------------------------------------------\u001b[0m",
      "\u001b[1;31mTypeError\u001b[0m                                 Traceback (most recent call last)",
      "\u001b[1;32m<ipython-input-6-f61e781808d3>\u001b[0m in \u001b[0;36m<module>\u001b[1;34m\u001b[0m\n\u001b[0;32m     40\u001b[0m \u001b[0mw\u001b[0m\u001b[1;33m=\u001b[0m\u001b[1;36m0.5\u001b[0m\u001b[1;33m\u001b[0m\u001b[1;33m\u001b[0m\u001b[0m\n\u001b[0;32m     41\u001b[0m \u001b[0mA\u001b[0m\u001b[1;33m=\u001b[0m\u001b[0msqrt\u001b[0m\u001b[1;33m(\u001b[0m\u001b[1;36m2\u001b[0m\u001b[1;33m*\u001b[0m\u001b[0mw\u001b[0m\u001b[1;33m)\u001b[0m \u001b[1;31m#initial amplitude\u001b[0m\u001b[1;33m\u001b[0m\u001b[1;33m\u001b[0m\u001b[0m\n\u001b[1;32m---> 42\u001b[1;33m \u001b[0mu0\u001b[0m\u001b[1;33m=\u001b[0m\u001b[0mA\u001b[0m\u001b[1;33m*\u001b[0m\u001b[0msech\u001b[0m\u001b[1;33m(\u001b[0m\u001b[0mA\u001b[0m\u001b[1;33m*\u001b[0m\u001b[0msqrt\u001b[0m\u001b[1;33m(\u001b[0m\u001b[1;33m(\u001b[0m\u001b[0mx\u001b[0m\u001b[1;33m-\u001b[0m\u001b[0mr\u001b[0m\u001b[1;33m[\u001b[0m\u001b[1;36m0\u001b[0m\u001b[1;33m]\u001b[0m\u001b[1;33m)\u001b[0m\u001b[1;33m**\u001b[0m\u001b[1;36m2\u001b[0m\u001b[1;33m+\u001b[0m\u001b[1;33m(\u001b[0m\u001b[0my\u001b[0m\u001b[1;33m-\u001b[0m\u001b[0mr\u001b[0m\u001b[1;33m[\u001b[0m\u001b[1;36m1\u001b[0m\u001b[1;33m]\u001b[0m\u001b[1;33m)\u001b[0m\u001b[1;33m**\u001b[0m\u001b[1;36m2\u001b[0m\u001b[1;33m)\u001b[0m\u001b[1;33m)\u001b[0m\u001b[1;33m*\u001b[0m\u001b[0mexp\u001b[0m\u001b[1;33m(\u001b[0m\u001b[0mw\u001b[0m\u001b[1;33m*\u001b[0m\u001b[1;33m(\u001b[0m\u001b[0mc\u001b[0m\u001b[1;33m[\u001b[0m\u001b[1;36m0\u001b[0m\u001b[1;33m]\u001b[0m\u001b[1;33m*\u001b[0m\u001b[0mx\u001b[0m\u001b[1;33m+\u001b[0m\u001b[0mc\u001b[0m\u001b[1;33m[\u001b[0m\u001b[1;36m1\u001b[0m\u001b[1;33m]\u001b[0m\u001b[1;33m*\u001b[0m\u001b[0my\u001b[0m\u001b[1;33m)\u001b[0m\u001b[1;33m*\u001b[0m\u001b[1;36m1j\u001b[0m\u001b[1;33m)\u001b[0m \u001b[1;31m# initial sech solution (bright soliton)\u001b[0m\u001b[1;33m\u001b[0m\u001b[1;33m\u001b[0m\u001b[0m\n\u001b[0m\u001b[0;32m     43\u001b[0m \u001b[1;33m\u001b[0m\u001b[0m\n\u001b[0;32m     44\u001b[0m \u001b[1;32mdef\u001b[0m \u001b[0mF\u001b[0m\u001b[1;33m(\u001b[0m\u001b[0mu\u001b[0m\u001b[1;33m,\u001b[0m\u001b[0mV\u001b[0m\u001b[1;33m)\u001b[0m\u001b[1;33m:\u001b[0m\u001b[1;33m\u001b[0m\u001b[1;33m\u001b[0m\u001b[0m\n",
      "\u001b[1;31mTypeError\u001b[0m: only length-1 arrays can be converted to Python scalars"
     ]
    }
   ],
   "source": [
    "import numpy as np\n",
    "import matplotlib.pyplot as plt\n",
    "from mpl_toolkits.mplot3d import Axes3D\n",
    "from math import *\n",
    "from cmath import *\n",
    "\n",
    "# We want to solve:\n",
    "# i u_t = (1/2)(u_xx+u_yy)+g(|u|^2)u +Vu, u(x,y,0)=u_0(x,y) given (and for different BCs)\n",
    "# This is the nonlinear schrodinger equation.\n",
    "# V=V(x,y)\n",
    "# Let RHS be F(u), wjere F is an operator on u.\n",
    "\n",
    "# Approximations: for small dx,dy,dt\n",
    "# u_t(x,y,t)~(u(x,y,t+dt)-u(x,y,t))/dt\n",
    "# u_x ~ (u(x+dx,y,t)-u(x-dx,y,t))/2dx <- better approx than above (same for dy)\n",
    "# So u_xx ~ (u(x+dx,y,t)-2u(x,y,t)+u(x-dx,y,t))/dx (same for dy).\n",
    "\n",
    "# We can get an explicit euler method: u_{nm}^{k+1} = u_{nm}^{k}+dt*F(u_{nm}^{k})\n",
    "# We can have better methods but for now let's get it working.\n",
    "\n",
    "def sech(var):\n",
    "    return 1/cosh(var)\n",
    "\n",
    "# Discretization:\n",
    "g=-1 # bright soliton solution when g=-1, dark when g=1\n",
    "V=0 # No potenital for now\n",
    "dt=0.1\n",
    "dx=0.1\n",
    "dy=0.1\n",
    "Lx=-10 \n",
    "Rx=10\n",
    "Ly=-10 \n",
    "Ry=10\n",
    "\n",
    "Nx=int((Rx-Lx)/dx)\n",
    "Ny=int((Ry-Ly)/dy) # need to be integers\n",
    "x,y=np.meshgrid(np.linspace(Lx,Rx,num=Nx),np.linspace(Ly,Ry,num=Ny))\n",
    "r=[0,0] # initial position\n",
    "c=[0,0] # initial velocity\n",
    "w=0.5\n",
    "A=sqrt(2*w) #initial amplitude\n",
    "u0=A*sech(A*sqrt((x-r[0])**2+(y-r[1])**2))*exp(w*(c[0]*x+c[1]*y)*1j) # initial sech solution (bright soliton)\n",
    "\n",
    "def F(u,V):\n",
    "    return g*u.conjugate()*u**2 + V*u\n",
    "\n",
    "def EE_2D(u0,t_step,V):\n",
    "    return u0+t_step*F(u0,V)\n",
    "\n",
    "T=5 # final time\n",
    "t0=0 # initial time\n",
    "t=t0\n",
    "u=u0\n",
    "\n",
    "fig=figure(figsize=(8,8))\n",
    "ax=fig.subplot(111,projection=\"3d\")\n",
    "while t<=T:\n",
    "    surf=plt.contour(x,y,u)\n",
    "    u=EE_2D(u)\n",
    "    t+=dt\n",
    "   "
   ]
  },
  {
   "cell_type": "code",
   "execution_count": null,
   "metadata": {},
   "outputs": [],
   "source": []
  }
 ],
 "metadata": {
  "kernelspec": {
   "display_name": "Python 3",
   "language": "python",
   "name": "python3"
  },
  "language_info": {
   "codemirror_mode": {
    "name": "ipython",
    "version": 3
   },
   "file_extension": ".py",
   "mimetype": "text/x-python",
   "name": "python",
   "nbconvert_exporter": "python",
   "pygments_lexer": "ipython3",
   "version": "3.8.1"
  }
 },
 "nbformat": 4,
 "nbformat_minor": 4
}
